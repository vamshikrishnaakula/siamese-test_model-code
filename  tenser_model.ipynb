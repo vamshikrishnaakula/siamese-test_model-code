{
 "cells": [
  {
   "cell_type": "code",
   "execution_count": 1,
   "id": "4814fa45",
   "metadata": {},
   "outputs": [],
   "source": [
    "import warnings\n",
    "\n",
    "with warnings.catch_warnings():\n",
    "    warnings.simplefilter(\"ignore\")\n",
    "import sys\n",
    "import numpy as np\n",
    "import pickle\n",
    "import os\n",
    "import matplotlib.pyplot as plt\n",
    "from keras.models import model_from_json\n",
    "import tensorflow as tf\n",
    "from tensorflow import keras\n",
    "from tensorflow.keras import layers\n",
    "# get_ipython().run_line_magic('matplotlib', 'inline')\n",
    "\n",
    "import cv2\n",
    "import time\n",
    "import pickle\n",
    "import itertools\n",
    "import random\n",
    "\n",
    "from sklearn.utils import shuffle\n",
    "from sklearn.model_selection import train_test_split\n",
    "import keras\n",
    "\n",
    "from os import listdir\n",
    "\n",
    "from keras import models\n",
    "from keras.models import Sequential\n",
    "from tensorflow.keras.optimizers import Adam\n",
    "from tensorflow.keras.layers import Input\n",
    "from keras.layers import Conv2D, ZeroPadding2D, Activation, concatenate, Dropout\n",
    "from keras.models import Model\n",
    "# from keras.layers import\n",
    "\n",
    "from tensorflow.keras.models import Sequential\n",
    "from tensorflow.keras.layers import (\n",
    "    BatchNormalization, SeparableConv2D, MaxPooling2D, Activation, Flatten, Dropout, Dense\n",
    ")\n",
    "from tensorflow.keras import backend as K\n",
    "from tensorflow.keras.optimizers import RMSprop\n",
    "\n",
    "from keras.layers.pooling import MaxPooling2D\n",
    "from keras.layers.merge import Concatenate\n",
    "from keras.layers.core import Lambda, Flatten, Dense\n",
    "from keras.initializers import glorot_uniform\n",
    "\n",
    "from tensorflow.keras.layers import Layer, InputSpec\n",
    "from keras.regularizers import l2\n",
    "from keras import backend as K\n",
    "from keras.backend import set_session\n",
    "from keras.callbacks import EarlyStopping, ModelCheckpoint, ReduceLROnPlateau\n",
    "from keras.utils.multi_gpu_utils import multi_gpu_model\n"
   ]
  },
  {
   "cell_type": "code",
   "execution_count": 2,
   "id": "afd13d29",
   "metadata": {},
   "outputs": [],
   "source": [
    "genuine_images_path = (\"D:/imsave/genuine\")\n",
    "forged_images_path = (\"D:/imsave/forged\")\n",
    "orig_groups, forg_groups = [], []\n"
   ]
  },
  {
   "cell_type": "code",
   "execution_count": 3,
   "id": "283c284b",
   "metadata": {},
   "outputs": [
    {
     "name": "stdout",
     "output_type": "stream",
     "text": [
      "orig_groups [['WhatsApp Image 2022-06-28 at 12.32.49 PM.jpeg']]\n",
      "forg_groups [['WhatsApp Image 2022-06-28 at 3.14.11 PM (1).jpeg']]\n"
     ]
    },
    {
     "data": {
      "text/plain": [
       "(1, 1)"
      ]
     },
     "execution_count": 3,
     "metadata": {},
     "output_type": "execute_result"
    }
   ],
   "source": [
    "genuine_image_filenames = listdir(genuine_images_path)\n",
    "#print(genuine_image_filenames)\n",
    "forged_image_filenames = listdir(forged_images_path)\n",
    "orig_groups.append(genuine_image_filenames)\n",
    "print(\"orig_groups\",orig_groups)\n",
    "forg_groups.append(forged_image_filenames)\n",
    "print(\"forg_groups\",forg_groups)\n",
    "len(orig_groups),len(forg_groups)\n",
    "\n"
   ]
  },
  {
   "cell_type": "code",
   "execution_count": 4,
   "id": "858b5e45",
   "metadata": {},
   "outputs": [
    {
     "name": "stdout",
     "output_type": "stream",
     "text": [
      "orig_lengths [1]\n",
      "forg_lengths [1]\n"
     ]
    }
   ],
   "source": [
    "orig_lengths = [len(x) for x in orig_groups]\n",
    "forg_lengths = [len(x) for x in forg_groups]\n",
    "print(\"orig_lengths\",orig_lengths)\n",
    "print(\"forg_lengths\",forg_lengths)"
   ]
  },
  {
   "cell_type": "code",
   "execution_count": 5,
   "id": "4eb1fbfe",
   "metadata": {},
   "outputs": [
    {
     "data": {
      "text/plain": [
       "([1], [1])"
      ]
     },
     "execution_count": 5,
     "metadata": {},
     "output_type": "execute_result"
    }
   ],
   "source": [
    "orig_lengths,forg_lengths"
   ]
  },
  {
   "cell_type": "code",
   "execution_count": 6,
   "id": "c8a6d045",
   "metadata": {},
   "outputs": [],
   "source": [
    "orig_test = orig_lengths \n",
    "forg_test = forg_lengths\n"
   ]
  },
  {
   "cell_type": "code",
   "execution_count": 7,
   "id": "ff9bcd21",
   "metadata": {},
   "outputs": [],
   "source": [
    "# All the images will be converted to the same size before processing\n",
    "img_h, img_w = 155, 220"
   ]
  },
  {
   "cell_type": "code",
   "execution_count": 8,
   "id": "839ff671",
   "metadata": {},
   "outputs": [],
   "source": [
    "forge = []\n",
    "org=[]"
   ]
  },
  {
   "cell_type": "code",
   "execution_count": 9,
   "id": "5d3f6f04",
   "metadata": {},
   "outputs": [
    {
     "name": "stdout",
     "output_type": "stream",
     "text": [
      "D:/imsave/genuine/WhatsApp Image 2022-06-28 at 12.32.49 PM.jpeg\n"
     ]
    }
   ],
   "source": [
    "for file in os.listdir(genuine_images_path):\n",
    "    #print(file)\n",
    "     org.append(genuine_images_path+'/'+file)\n",
    "print(org[0])"
   ]
  },
  {
   "cell_type": "code",
   "execution_count": 10,
   "id": "9d82ef87",
   "metadata": {},
   "outputs": [
    {
     "name": "stdout",
     "output_type": "stream",
     "text": [
      "D:/imsave/forged/WhatsApp Image 2022-06-28 at 3.14.11 PM (1).jpeg\n"
     ]
    }
   ],
   "source": [
    "for file in os.listdir(forged_images_path):\n",
    "    forge.append(forged_images_path+'/'+file)\n",
    "print(forge[0])\n"
   ]
  },
  {
   "cell_type": "code",
   "execution_count": 11,
   "id": "cbb42c07",
   "metadata": {},
   "outputs": [
    {
     "name": "stdout",
     "output_type": "stream",
     "text": [
      "org_test= D:/imsave/genuine/WhatsApp Image 2022-06-28 at 12.32.49 PM.jpeg\n",
      "forge_test= D:/imsave/forged/WhatsApp Image 2022-06-28 at 3.14.11 PM (1).jpeg\n"
     ]
    }
   ],
   "source": [
    "org_test=org[0]\n",
    "forge_test=forge[0]\n",
    "print(\"org_test=\",org_test)\n",
    "print(\"forge_test=\",forge_test)\n"
   ]
  },
  {
   "cell_type": "code",
   "execution_count": 12,
   "id": "a8f71cc9",
   "metadata": {},
   "outputs": [],
   "source": [
    "def visualize_sample_signature():\n",
    "    '''Function to randomly select a signature from train set and\n",
    "    print two genuine copies and one forged copy'''\n",
    "\n",
    "    fig, (ax1, ax2, ax3) = plt.subplots(1, 3, figsize=(10, 10))\n",
    "    \n",
    "     # #     print(\"k==\",k)\n",
    "     # k = np.random.randint(len(orig_test))\n",
    "    orig_img_names = [org[0]]\n",
    "    forg_img_name = [forge[0]]\n",
    "    print(\"orig_img_names=\",orig_img_names)\n",
    "    print(\"forg_img_name=\",forg_img_name)\n",
    "    orig_img1 = cv2.imread(orig_img_names[0], 0)\n",
    "    orig_img2 = cv2.imread(orig_img_names[0], 0)\n",
    "    forg_img = plt.imread(forg_img_name[0], 0)\n",
    "    orig_img1 = cv2.resize(orig_img1, (img_w, img_h))\n",
    "    orig_img2 = cv2.resize(orig_img2, (img_w, img_h))\n",
    "    forg_img = cv2.resize(forg_img, (img_w, img_h))\n",
    "    ax1.imshow(orig_img1, cmap='gray')\n",
    "    ax2.imshow(orig_img2, cmap='gray')\n",
    "    ax3.imshow(forg_img, cmap='gray')\n",
    "    ax1.set_title('Genuine Copy')\n",
    "    ax1.axis('off')\n",
    "\n",
    "    ax2.set_title('Genuine Copy')\n",
    "    ax2.axis('off')\n",
    "    ax3.set_title('Forged Copy')\n",
    "    ax3.axis('off')\n",
    "#     fig.savefig(\"D:/imsave\")\n",
    "    #return ax1, ax2, ax3\n"
   ]
  },
  {
   "cell_type": "code",
   "execution_count": 13,
   "id": "97f7be75",
   "metadata": {},
   "outputs": [
    {
     "name": "stdout",
     "output_type": "stream",
     "text": [
      "orig_img_names= ['D:/imsave/genuine/WhatsApp Image 2022-06-28 at 12.32.49 PM.jpeg']\n",
      "forg_img_name= ['D:/imsave/forged/WhatsApp Image 2022-06-28 at 3.14.11 PM (1).jpeg']\n"
     ]
    },
    {
     "data": {
      "image/png": "[encoded data removed]",
      "text/plain": [
       "<Figure size 720x720 with 3 Axes>"
      ]
     },
     "metadata": {
      "needs_background": "light"
     },
     "output_type": "display_data"
    }
   ],
   "source": [
    "visualize_sample_signature()"
   ]
  },
  {
   "cell_type": "code",
   "execution_count": 14,
   "id": "86503849",
   "metadata": {},
   "outputs": [],
   "source": [
    "#visualize_sample_signature()"
   ]
  },
  {
   "cell_type": "code",
   "execution_count": 15,
   "id": "cd12e449",
   "metadata": {},
   "outputs": [],
   "source": [
    "def generate_batch(orig_groups, forg_groups, batch_size = 32):\n",
    "    '''Function to generate a batch of data with batch_size number of data points\n",
    "    Half of the data points will be Genuine-Genuine pairs and half will be Genuine-Forged pairs'''\n",
    "    while True:\n",
    "        orig_pairs = []\n",
    "        forg_pairs = []\n",
    "        gen_gen_labels = []\n",
    "        gen_for_labels = []\n",
    "        all_pairs = []\n",
    "        all_labels = []\n",
    "\n",
    "        # Here we create pairs of Genuine-Genuine image names and Genuine-Forged image names\n",
    "        # For every person we have 24 genuine signatures, hence we have\n",
    "        # 24 choose 2 = 276 Genuine-Genuine image pairs for one person.\n",
    "        # To make Genuine-Forged pairs, we pair every Genuine signature of a person\n",
    "        # with 12 randomly sampled Forged signatures of the same person.\n",
    "        # Thus we make 24 * 12 = 300 Genuine-Forged image pairs for one person.\n",
    "        # In all we have 120 person's data in the training data.\n",
    "        # Total no. of Genuine-Genuine pairs = 120 * 276 = 33120\n",
    "        # Total number of Genuine-Forged pairs = 120 * 300 = 36000\n",
    "        # Total no. of data points = 33120 + 36000 = 69120\n",
    "        orig_pairs.extend(org)\n",
    "        #print(\"orig_pairs==\",orig_pairs)\n",
    "        forg_pairs.extend(forge)\n",
    "        #print(\"forg_pairs==\",forg_pairs)\n",
    "\n",
    "        # Label for Genuine-Genuine pairs is 1\n",
    "        # Label for Genuine-Forged pairs is 0\n",
    "        gen_gen_labels = [1]*len(orig_pairs)\n",
    "        gen_for_labels = [0]*len(forg_pairs)\n",
    "\n",
    "        # Concatenate all the pairs together along with their labels and shuffle them\n",
    "        all_pairs = orig_pairs + forg_pairs\n",
    "        #print(\"all pairs==\",len(all_pairs))\n",
    "        all_labels = gen_gen_labels + gen_for_labels\n",
    "        #print(\"all_labels==\", all_labels)\n",
    "        del orig_pairs, forg_pairs, gen_gen_labels, gen_for_labels\n",
    "        all_pairs, all_labels = shuffle(all_pairs, all_labels)\n",
    "\n",
    "        # Note the lists above contain only the image names and\n",
    "        # actual images are loaded and yielded below in batches\n",
    "        # Below we prepare a batch of data points and yield the batch\n",
    "        # In each batch we load \"batch_size\" number of image pairs\n",
    "        # These images are then removed from the original set so that\n",
    "        # they are not added again in the next batch.\n",
    "\n",
    "        k = 0\n",
    "        pairs=[np.zeros((batch_size, img_h, img_w, 1)) for i in range(2)]\n",
    "        # for  pair in (all_pairs):\n",
    "        #print(\"pairs\",pairs)\n",
    "        targets=np.zeros((batch_size,))\n",
    "        img1 = cv2.imread(org_test, 0)\n",
    "        img2 = cv2.imread(forge_test, 0)\n",
    "        img1 = cv2.resize(img1, (img_w, img_h))\n",
    "        img2 = cv2.resize(img2, (img_w, img_h))\n",
    "        img1 = np.array(img1, dtype = np.float64)\n",
    "        img2 = np.array(img2, dtype = np.float64)\n",
    "        img1 /= 255\n",
    "        img2 /= 255\n",
    "        img1 = img1[..., np.newaxis]\n",
    "        img2 = img2[..., np.newaxis]\n",
    "        pairs[0][k, :, :, :] = img1\n",
    "        pairs[1][k, :, :, :] = img2\n",
    "        targets = all_labels\n",
    "        k += 1\n",
    "        if k == batch_size:\n",
    "                    yield pairs, targets\n",
    "                    k = 0\n",
    "                    pairs=[np.zeros((batch_size, img_h, img_w, 1)) for i in range(2)]\n",
    "                    targets=np.zeros((batch_size,))\n",
    "\n"
   ]
  },
  {
   "cell_type": "code",
   "execution_count": 16,
   "id": "b57d5914",
   "metadata": {},
   "outputs": [
    {
     "data": {
      "text/plain": [
       "<generator object generate_batch at 0x0000017A8EDBDF20>"
      ]
     },
     "execution_count": 16,
     "metadata": {},
     "output_type": "execute_result"
    }
   ],
   "source": [
    "generate_batch(orig_test, forge_test, 1)"
   ]
  },
  {
   "cell_type": "code",
   "execution_count": 17,
   "id": "3f1e0f72",
   "metadata": {},
   "outputs": [],
   "source": [
    "def euclidean_distance(vects):\n",
    "    '''Compute Euclidean Distance between two vectors'''\n",
    "    x, y = vects\n",
    "    return K.sqrt(K.sum(K.square(x - y), axis=1, keepdims=True))"
   ]
  },
  {
   "cell_type": "code",
   "execution_count": 18,
   "id": "65918585",
   "metadata": {},
   "outputs": [],
   "source": [
    "def eucl_dist_output_shape(shapes):\n",
    "    shape1, shape2 = shapes\n",
    "    return (shape1[0], 1)"
   ]
  },
  {
   "cell_type": "code",
   "execution_count": 19,
   "id": "b74821c0",
   "metadata": {},
   "outputs": [],
   "source": [
    "def contrastive_loss(y_true, y_pred):\n",
    "    '''Contrastive loss from Hadsell-et-al.'06\n",
    "    http://yann.lecun.com/exdb/publis/pdf/hadsell-chopra-lecun-06.pdf\n",
    "    '''\n",
    "    margin = 1\n",
    "    return K.mean(y_true * K.square(y_pred) + (1 - y_true) * K.square(K.maximum(margin - y_pred, 0)))"
   ]
  },
  {
   "cell_type": "code",
   "execution_count": 20,
   "id": "e6a9021a",
   "metadata": {},
   "outputs": [],
   "source": [
    "def create_base_network_signet(input_shape):\n",
    "    '''Base Siamese Network'''\n",
    "\n",
    "    seq = Sequential()\n",
    "    seq.add(Conv2D(96, kernel_size=(11, 11), activation='relu', name='conv1_1', strides=4, input_shape=input_shape))\n",
    "    seq.add(BatchNormalization(epsilon=1e-06, axis=1, momentum=0.9))\n",
    "    seq.add(MaxPooling2D((3, 3), strides=(2, 2)))\n",
    "    seq.add(ZeroPadding2D((2, 2)))\n",
    "\n",
    "    seq.add(Conv2D(256, kernel_size=(5, 5), activation='relu', name='conv2_1', strides=1,\n",
    "                   kernel_initializer='glorot_uniform'))\n",
    "    seq.add(BatchNormalization(epsilon=1e-06, axis=1, momentum=0.9))\n",
    "    seq.add(MaxPooling2D((3, 3), strides=(2, 2)))\n",
    "    seq.add(Dropout(0.3))  # added extra\n",
    "    seq.add(ZeroPadding2D((1, 1)))\n",
    "\n",
    "    seq.add(Conv2D(384, kernel_size=(3, 3), activation='relu', name='conv3_1', strides=1,\n",
    "                   kernel_initializer='glorot_uniform'))\n",
    "    seq.add(ZeroPadding2D((1, 1)))\n",
    "\n",
    "    seq.add(Conv2D(256, kernel_size=(3, 3), activation='relu', name='conv3_2', strides=1,\n",
    "                   kernel_initializer='glorot_uniform'))\n",
    "    seq.add(MaxPooling2D((3, 3), strides=(2, 2)))\n",
    "    seq.add(Dropout(0.3))  # added extra\n",
    "    seq.add(Flatten(name='flatten'))\n",
    "    seq.add(Dense(1024, kernel_regularizer=None, activation='relu'))\n",
    "    seq.add(Dropout(0.5))\n",
    "\n",
    "    seq.add(Dense(128, kernel_regularizer=None, activation='relu'))  # softmax changed to relu\n",
    "\n",
    "    return seq"
   ]
  },
  {
   "cell_type": "code",
   "execution_count": 21,
   "id": "a8404f10",
   "metadata": {},
   "outputs": [],
   "source": [
    "input_shape=(img_h, img_w, 1)"
   ]
  },
  {
   "cell_type": "code",
   "execution_count": 22,
   "id": "17ad7cff",
   "metadata": {},
   "outputs": [],
   "source": [
    "# network definition\n",
    "base_network = create_base_network_signet(input_shape)\n",
    "\n",
    "input_a = Input(shape=(input_shape))\n",
    "input_b = Input(shape=(input_shape))\n",
    "\n",
    "# because we re-use the same instance `base_network`,\n",
    "# the weights of the network\n",
    "# will be shared across the two branches\n",
    "processed_a = base_network(input_a)\n",
    "processed_b = base_network(input_b)\n",
    "\n",
    "# Compute the Euclidean distance between the two vectors in the latent space\n",
    "distance = Lambda(euclidean_distance, output_shape=eucl_dist_output_shape)([processed_a, processed_b])\n",
    "\n",
    "model = Model(inputs=[input_a, input_b], outputs=distance, name = 'head_model')\n",
    "# Specify available GPUs\n",
    "#p_model = multi_gpu_model(model, gpus=4)"
   ]
  },
  {
   "cell_type": "code",
   "execution_count": 23,
   "id": "cf53bee3",
   "metadata": {},
   "outputs": [
    {
     "data": {
      "text/plain": [
       "(180, 180, 180)"
      ]
     },
     "execution_count": 23,
     "metadata": {},
     "output_type": "execute_result"
    }
   ],
   "source": [
    "batch_sz = 32\n",
    "num_train_samples = 10*10 + 10*8\n",
    "num_val_samples = num_test_samples = 10*10 + 10*8\n",
    "num_train_samples, num_val_samples, num_test_samples"
   ]
  },
  {
   "cell_type": "code",
   "execution_count": 24,
   "id": "e580f1b4",
   "metadata": {},
   "outputs": [],
   "source": [
    "model.load_weights('FashionMNIST_weights.h5')"
   ]
  },
  {
   "cell_type": "code",
   "execution_count": 25,
   "id": "682de5a3",
   "metadata": {},
   "outputs": [],
   "source": [
    "model.compile(loss=contrastive_loss,\n",
    "         optimizer='rmsprop',\n",
    "         metrics=['accuracy'])"
   ]
  },
  {
   "cell_type": "code",
   "execution_count": 26,
   "id": "2f09612d",
   "metadata": {},
   "outputs": [
    {
     "name": "stdout",
     "output_type": "stream",
     "text": [
      "Model: \"head_model\"\n",
      "__________________________________________________________________________________________________\n",
      "Layer (type)                    Output Shape         Param #     Connected to                     \n",
      "==================================================================================================\n",
      "input_1 (InputLayer)            [(None, 155, 220, 1) 0                                            \n",
      "__________________________________________________________________________________________________\n",
      "input_2 (InputLayer)            [(None, 155, 220, 1) 0                                            \n",
      "__________________________________________________________________________________________________\n",
      "sequential (Sequential)         (None, 128)          6461084     input_1[0][0]                    \n",
      "                                                                 input_2[0][0]                    \n",
      "__________________________________________________________________________________________________\n",
      "lambda (Lambda)                 (None, 1)            0           sequential[0][0]                 \n",
      "                                                                 sequential[1][0]                 \n",
      "==================================================================================================\n",
      "Total params: 6,461,084\n",
      "Trainable params: 6,460,974\n",
      "Non-trainable params: 110\n",
      "__________________________________________________________________________________________________\n"
     ]
    }
   ],
   "source": [
    "model.summary()"
   ]
  },
  {
   "cell_type": "code",
   "execution_count": 27,
   "id": "15e3c7da",
   "metadata": {},
   "outputs": [],
   "source": [
    "def compute_accuracy_roc(predictions, labels, plot_far_frr =False):\n",
    "    '''\n",
    "    Compute ROC accuracy with a range of thresholds on distances.\n",
    "    Plot FAR-FRR curves and P-R curves to monitor performance of model on input set.\n",
    "    '''\n",
    "    dmax = np.max(predictions)\n",
    "    print(\"dmax=\",dmax)\n",
    "    dmin = np.min(predictions)\n",
    "    print(\"dmin=\",dmin)\n",
    "    nsame = np.sum(labels == 1) #similar\n",
    "    print(\"nsame=\",nsame)\n",
    "    ndiff = np.sum(labels == 0) #different\n",
    "    print(\"ndiff=\",ndiff)\n",
    "    step = 0.01\n",
    "    max_acc = 0\n",
    "    best_thresh = -1\n",
    "    frr_plot = []\n",
    "    far_plot = []\n",
    "    pr_plot = []\n",
    "    re_plot = []\n",
    "    ds = []\n",
    "    for d in np.arange(dmin, dmax+step, step):\n",
    "        idx1 = predictions.ravel() <= d #guessed genuine\n",
    "        idx2 = predictions.ravel() > d #guessed forged\n",
    "        tp = float(np.sum(labels[idx1] == 1))\n",
    "        tn = float(np.sum(labels[idx2] == 0))\n",
    "        fp = float(np.sum(labels[idx1] == 0))\n",
    "        fn = float(np.sum(labels[idx2] == 1))\n",
    "        print(\"tp\",tp)\n",
    "        print(\"tn\",tn)\n",
    "        print(\"fp\",fp)\n",
    "        print(\"fn\",fn)\n",
    "#         tpr = float(np.sum(labels[idx1] == 1)) / nsame\n",
    "        print(\"tpr\",tpr)\n",
    "        tnr = float(np.sum(labels[idx2] == 0)) / ndiff\n",
    "        print(\"tnr\",tnr)\n",
    "        \n",
    "        \n",
    "        acc = 0.5 * (tpr + tnr)\n",
    "        print(\"acc\",acc)\n",
    "        pr = tp / (tp + fp)\n",
    "        print(\"pr=\",pr)\n",
    "        re = tp / (tp + fn)\n",
    "        print ('ROC', acc, tpr, tnr)\n",
    "       \n",
    "        if (acc > max_acc):\n",
    "            max_acc, best_thresh = acc, d\n",
    "        \n",
    "        #if (fp+tn) != 0.0 and (fn+tp) != 0.0:\n",
    "        far = fp / (fp + tn)\n",
    "        print(\"far=\",far)\n",
    "        frr = fn / (fn + tp)\n",
    "        print(\"frr=\",frr)\n",
    "        frr_plot.append(frr)\n",
    "        pr_plot.append(pr)\n",
    "        re_plot.append(re)\n",
    "        far_plot.append(far)\n",
    "        ds.append(d)\n",
    "            \n",
    "    \n",
    "    if plot_far_frr:\n",
    "        fig = plt.figure(figsize = (10,10))\n",
    "        ax = fig.add_subplot(121)\n",
    "        ax.plot(ds, far_plot, color = 'red')\n",
    "        ax.plot(ds, frr_plot, color = 'blue')\n",
    "        ax.set_title('Error rate')\n",
    "        ax.legend(['FAR', 'FRR'])\n",
    "        ax.set(xlabel = 'Thresholds', ylabel = 'Error rate')\n",
    "        \n",
    "        ax1 = fig.add_subplot(122)\n",
    "        ax1.plot(ds, pr_plot, color = 'green')\n",
    "        ax1.plot(ds, re_plot, color = 'magenta')\n",
    "        ax1.set_title('P-R curve')\n",
    "        ax1.legend(['Precision', 'Recall'])\n",
    "        ax.set(xlabel = 'Thresholds', ylabel = 'Error rate')\n",
    "        \n",
    "        plt.show()\n",
    "    return max_acc, best_thresh"
   ]
  },
  {
   "cell_type": "code",
   "execution_count": 28,
   "id": "b0d2db14",
   "metadata": {},
   "outputs": [],
   "source": [
    "def compute_accuracy_roc(predictions, labels, plot_far_frr =False):\n",
    "    '''\n",
    "    Compute ROC accuracy with a range of thresholds on distances.\n",
    "    Plot FAR-FRR curves and P-R curves to monitor performance of model on input set.\n",
    "    '''\n",
    "    dmax = np.max(predictions)\n",
    "    dmin = np.min(predictions)\n",
    "    nsame = np.sum(labels == 1) #similar\n",
    "    ndiff = np.sum(labels == 0) #different\n",
    "    step = 0.01\n",
    "    max_acc = 0\n",
    "    best_thresh = -1\n",
    "    frr_plot = []\n",
    "    far_plot = []\n",
    "    pr_plot = []\n",
    "    re_plot = []\n",
    "    ds = []\n",
    "    for d in np.arange(dmin, dmax+step, step):\n",
    "        idx1 = predictions.ravel() <= d #guessed genuine\n",
    "        idx2 = predictions.ravel() > d #guessed forged\n",
    "        tp = float(np.sum(labels[idx1] == 1))\n",
    "        tn = float(np.sum(labels[idx2] == 0))\n",
    "        fp = float(np.sum(labels[idx1] == 0))\n",
    "        fn = float(np.sum(labels[idx2] == 1))\n",
    "#         print(tp, tn, fp, fn)\n",
    "        tpr = float(np.sum(labels[idx1] == 1)) / nsame       \n",
    "        tnr = float(np.sum(labels[idx2] == 0)) / ndiff\n",
    "        \n",
    "        \n",
    "        acc = 0.5 * (tpr + tnr)\n",
    "        pr = tp / (tp + fp)\n",
    "        re = tp / (tp + fn)\n",
    "#       print ('ROC', acc, tpr, tnr)\n",
    "       \n",
    "        if (acc > max_acc):\n",
    "            max_acc, best_thresh = acc, d\n",
    "        \n",
    "        #if (fp+tn) != 0.0 and (fn+tp) != 0.0:\n",
    "        far = fp / (fp + tn)\n",
    "        frr = fn / (fn + tp)\n",
    "        frr_plot.append(frr)\n",
    "        pr_plot.append(pr)\n",
    "        re_plot.append(re)\n",
    "        far_plot.append(far)\n",
    "        ds.append(d)\n",
    "            \n",
    "    \n",
    "#     if plot_far_frr:\n",
    "#         fig = plt.figure(figsize = (10,10))\n",
    "#         ax = fig.add_subplot(121)\n",
    "#         ax.plot(ds, far_plot, color = 'red')\n",
    "#         ax.plot(ds, frr_plot, color = 'blue')\n",
    "#         ax.set_title('Error rate')\n",
    "#         ax.legend(['FAR', 'FRR'])\n",
    "#         ax.set(xlabel = 'Thresholds', ylabel = 'Error rate')\n",
    "        \n",
    "#         ax1 = fig.add_subplot(122)\n",
    "#         ax1.plot(ds, pr_plot, color = 'green')\n",
    "#         ax1.plot(ds, re_plot, color = 'magenta')\n",
    "#         ax1.set_title('P-R curve')\n",
    "#         ax1.legend(['Precision', 'Recall'])\n",
    "#         ax.set(xlabel = 'Thresholds', ylabel = 'Error rate')\n",
    "        \n",
    "        #plt.show()\n",
    "    return max_acc, best_thresh"
   ]
  },
  {
   "cell_type": "code",
   "execution_count": 29,
   "id": "dd2e91f5",
   "metadata": {},
   "outputs": [],
   "source": [
    "def load_and_check_model(weight):\n",
    "    \"\"\"\n",
    "    Print validation Accuracy for all saved weights and choose the best for test set\n",
    "    (TODO - Perform Ensemble of Weights)\n",
    "    \"\"\"\n",
    "    model.load_weights(weight)\n",
    "\n",
    "    val_gen = generate_batch(orig_groups, forg_groups, 1)\n",
    "    pred, tr_y = [], []\n",
    "    for i in range(num_val_samples):\n",
    "        (img1, img2), label = next(val_gen)\n",
    "        tr_y.append(label)\n",
    "        #print(\"tr_y\",tr_y)\n",
    "        pred.append(model.predict([img1, img2])[0][0])\n",
    "        #print(\"pred=\",pred)\n",
    "\n",
    "    tr_acc, threshold = compute_accuracy_roc(np.array(pred), np.array(tr_y))\n",
    "    return tr_acc, threshold"
   ]
  },
  {
   "cell_type": "code",
   "execution_count": 30,
   "id": "f9622501",
   "metadata": {},
   "outputs": [
    {
     "name": "stdout",
     "output_type": "stream",
     "text": [
      "For model 1 Validation Accuracy =  50.0 %\n",
      "For model 2 Validation Accuracy =  50.0 %\n",
      "For model 3 Validation Accuracy =  50.0 %\n",
      "For model 4 Validation Accuracy =  50.0 %\n",
      "For model 5 Validation Accuracy =  50.0 %\n",
      "For model 6 Validation Accuracy =  50.0 %\n",
      "For model 7 Validation Accuracy =  50.0 %\n",
      "For model 8 Validation Accuracy =  50.0 %\n",
      "For model 9 Validation Accuracy =  50.0 %\n",
      "For model 10 Validation Accuracy =  50.0 %\n",
      "For model 11 Validation Accuracy =  50.0 %\n",
      "For model 12 Validation Accuracy =  50.0 %\n",
      "For model 13 Validation Accuracy =  50.0 %\n",
      "For model 14 Validation Accuracy =  50.0 %\n",
      "For model 15 Validation Accuracy =  50.0 %\n",
      "For model 16 Validation Accuracy =  50.0 %\n",
      "For model 17 Validation Accuracy =  50.0 %\n",
      "For model 18 Validation Accuracy =  50.0 %\n",
      "For model 19 Validation Accuracy =  50.0 %\n",
      "For model 20 Validation Accuracy =  50.0 %\n",
      "For model 21 Validation Accuracy =  50.0 %\n",
      "For model 22 Validation Accuracy =  50.0 %\n",
      "For model 23 Validation Accuracy =  50.0 %\n",
      "For model 24 Validation Accuracy =  50.0 %\n",
      "For model 25 Validation Accuracy =  50.0 %\n",
      "For model 26 Validation Accuracy =  50.0 %\n"
     ]
    }
   ],
   "source": [
    "acc_thresh = []\n",
    "for i in range(1,27,1):\n",
    "    acc_thresh.append(load_and_check_model('D:/model2/signet-bhsig260-full-xavier-'+str(i).zfill(3)+'.h5'))\n",
    "    print('For model '+str(i)+' Validation Accuracy = ',acc_thresh[i-1][0]*100,'%')"
   ]
  },
  {
   "cell_type": "code",
   "execution_count": 31,
   "id": "9ef21b37",
   "metadata": {},
   "outputs": [],
   "source": [
    "def test_model(weight):\n",
    "    model.load_weights(weight)\n",
    "\n",
    "    test_gen = generate_batch(orig_test, forg_test, 1)\n",
    "    pred, tr_y = [], []\n",
    "    #for i in range(num_test_samples):\n",
    "    (img1, img2), label = next(test_gen)\n",
    "    tr_y.append(label)\n",
    "    pred.append(model.predict([img1, img2])[0][0])\n",
    "\n",
    "    tr_acc, threshold = compute_accuracy_roc(np.array(pred), np.array(tr_y), plot_far_frr = True)\n",
    "    return tr_acc, threshold"
   ]
  },
  {
   "cell_type": "code",
   "execution_count": 32,
   "id": "7ccbc3f0",
   "metadata": {},
   "outputs": [
    {
     "data": {
      "text/plain": [
       "(0.5, 0.0017756499582901597)"
      ]
     },
     "execution_count": 32,
     "metadata": {},
     "output_type": "execute_result"
    }
   ],
   "source": [
    "#acc, threshold = test_model('FashionMNIST_weights.h5')\n",
    "acc,threshold = test_model(\"D:/model2/signet-bhsig260-full-xavier-008.h5\")\n",
    "acc, threshold"
   ]
  },
  {
   "cell_type": "code",
   "execution_count": 33,
   "id": "16d5de49",
   "metadata": {},
   "outputs": [],
   "source": [
    "def predict_score():\n",
    "    '''Predict distance score and classify test images as Genuine or Forged'''\n",
    "    test_gen = generate_batch(orig_test, forg_test, 1)\n",
    "#     print(\"test_gen=\",test_gen)\n",
    "    test_point, test_label = next(test_gen)\n",
    "#     print(\"test_point=\",test_point)\n",
    "#     print(\"test_label=\",test_label)\n",
    "    img1, img2 = test_point[0], test_point[1]\n",
    "#     print(\"img1, img2=\",img1, img2)\n",
    "    \n",
    "    fig, (ax1, ax2) = plt.subplots(1, 2, figsize = (10, 10))\n",
    "    ax1.imshow(np.squeeze(img1), cmap='gray')\n",
    "    ax2.imshow(np.squeeze(img2), cmap='gray')\n",
    "    ax1.set_title('Genuine')\n",
    "    if test_label == 1:\n",
    "        ax2.set_title('Genuine')\n",
    "    else:\n",
    "        ax2.set_title('Forged')\n",
    "    ax1.axis('off')\n",
    "    ax2.axis('off')\n",
    "    plt.show()\n",
    "    result = model.predict([img1, img2])\n",
    "    diff = result[0][0]\n",
    "    print(\"Difference Score = \", diff)\n",
    "    if diff >=threshold:\n",
    "        print(\"Its a Forged Signature\")\n",
    "    else:\n",
    "        print(\"Its a Genuine Signature\")"
   ]
  },
  {
   "cell_type": "code",
   "execution_count": 34,
   "id": "49c51fe1",
   "metadata": {},
   "outputs": [
    {
     "data": {
      "image/png": "[encoded data removed]",
      "text/plain": [
       "<Figure size 720x720 with 2 Axes>"
      ]
     },
     "metadata": {
      "needs_background": "light"
     },
     "output_type": "display_data"
    },
    {
     "name": "stdout",
     "output_type": "stream",
     "text": [
      "Difference Score =  0.00177565\n",
      "Its a Forged Signature\n"
     ]
    }
   ],
   "source": [
    "predict_score()"
   ]
  },
  {
   "cell_type": "code",
   "execution_count": null,
   "id": "b4bc1336",
   "metadata": {},
   "outputs": [],
   "source": []
  }
 ],
 "metadata": {
  "kernelspec": {
   "display_name": "Python 3 (ipykernel)",
   "language": "python",
   "name": "python3"
  },
  "language_info": {
   "codemirror_mode": {
    "name": "ipython",
    "version": 3
   },
   "file_extension": ".py",
   "mimetype": "text/x-python",
   "name": "python",
   "nbconvert_exporter": "python",
   "pygments_lexer": "ipython3",
   "version": "3.9.7"
  }
 },
 "nbformat": 4,
 "nbformat_minor": 5
}
